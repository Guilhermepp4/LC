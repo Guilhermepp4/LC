{
 "cells": [
  {
   "cell_type": "markdown",
   "metadata": {},
   "source": [
    "### Grupo 24\n",
    "\n",
    "Gabriel Antunes a101101\n",
    "<br>\n",
    "Guilherme Pinho a105533\n",
    "\n",
    "<br>\n",
    "Pretende-se construir um horário semanal para o plano de reuniões de <p><p><p><p><p><p><p><p><p><p><p><p><p><p><p><p>Projeto de uma “StartUp” de acordo com as seguintes condições:\n",
    "\n",
    "1. Cada reunião ocupa uma sala (enumeradas 1...S) durante um “slot” (tempo,dia).  Assume-se os dias enumerados 1...D e, em cada dia, os tempos enumerados 1...T.\n",
    "\n",
    "2.  Cada reunião tem associado um projeto (enumerados 1...P) e um conjunto de participantes. Os diferentes colaboradores são enumerados 1...C.\n",
    "    \n",
    "3. Cada projeto tem associado um conjunto de colaboradores, dos quais um  é o líder. Cada projeto realiza um dado número de reuniões semanais. São “inputs” do problema o conjunto de colaboradores de cada projeto, o seu líder e o número de reuniões semanais.\n",
    "    \n",
    "4. O líder do projeto participa em todas as reuniões do seu projeto; os restantes colaboradores podem ou não participar consoante a sua disponibilidade, num mínimo (“quorum”) de  50\\% do total de colaboradores do projeto.  A disponibilidade de cada participante, incluindo o lider,  é um conjunto de “slots” (“inputs” do problema). \n",
    "    \n",
    "<br>\n",
    "São os \"input\" do problema \n",
    "\n",
    "1. Os parâmetros S, T, P, C\n",
    "2. O conjunto de colaboradores de cada projeto, o seu líder e o número mínimo de reuniões semanais\n",
    "3. A disponibilidade de cada participante, incluindo o lider. Essa disponibilidade é um conjunto de        “slots” representada numa matriz booleana de acessibilidade com uma linha por cada participante 1...C e uma coluna por “slot” 1...T"
   ]
  },
  {
   "cell_type": "markdown",
   "metadata": {},
   "source": [
    "Comecemos por definir valores base para que vão servir de inputs para o exercicio:"
   ]
  },
  {
   "cell_type": "code",
   "execution_count": 11,
   "metadata": {},
   "outputs": [],
   "source": [
    "from ortools.linear_solver import pywraplp\n",
    "\n",
    "solver = pywraplp.Solver.CreateSolver('SCIP')\n",
    "\n",
    "S = 2\n",
    "T = (5 , 3) # 5 dias por semana, 3 turnos por dia\n",
    "C = 5\n",
    "P = 2\n",
    "\n",
    "projects = { 1 : { \"colaboradores\" : [1,3,5], \"lider\" : 1, \"num_reunioes\" : 2},\n",
    "             2 : { \"colaboradores\" : [2, 4], \"lider\" : 2, \"num_reunioes\" : 2}}\n",
    "\n",
    "disponibilidade = { 1 : [(2,1), (2,2), (2,3), (3,1), (5,2), (5,3)],\n",
    "                    2 : [(1,2), (2,2), (3,2), (4,2), (5,2)],\n",
    "                    3 : [(1,1), (2,2), (3,3), (4,1), (5,2)],\n",
    "                    4 : [(1,1), (1,2), (1,3), (2,1), (2,2), (2,3)],\n",
    "                    5 : [(1,3), (2,3), (3,3), (4,3), (5,2), (5,3)]  }"
   ]
  },
  {
   "cell_type": "markdown",
   "metadata": {},
   "source": [
    "Vamos criar uma função que vai construir o horário que recebe as Salas, os Turnos e os Dias\n",
    "Este horário vai consistir num dicionário em que as chaves são tuplos no formato \"(Turno, Dia, Sala)\" e a cada uma destas chaves está associado um valor que é uma lista com as variáveis Bool que representam os projetos possíveis e mais tarde irão ter o propósito de validar se é possivel fazer uma reunião naquela sala para aquele projeto"
   ]
  },
  {
   "cell_type": "code",
   "execution_count": 12,
   "metadata": {},
   "outputs": [],
   "source": [
    "# Função que vai construir o horário com os inputs dados, que vai associar cada Dia, Turno, Sala a uma lista com os projetos possíveis\n",
    "# makeSchedule\n",
    "sch = {}\n",
    "\n",
    "for day in range(1, T[1] + 1):\n",
    "    for turn in range(1, T[0] + 1):\n",
    "        for room in range(S):\n",
    "            sch[(day, turn, room)] = [solver.BoolVar(f\"({day}-{turn}-{room}: {proj})\") for proj in range(1, P + 1)]"
   ]
  },
  {
   "cell_type": "markdown",
   "metadata": {},
   "source": [
    "Depois de ter o horário e as variáveis criadas vamos acrescentar a condição que dita que o lider de um projeto têm de comparecer a todas as reuniões desse mesmo projeto"
   ]
  },
  {
   "cell_type": "code",
   "execution_count": 13,
   "metadata": {},
   "outputs": [],
   "source": [
    "# Função para acrescentar a condição de que o líder tem de comparecer a todas as reuniões do projeto\n",
    "# validateLeader\n",
    "\n",
    "for proj, data in projects.items():\n",
    "    leader = data['lider']\n",
    "    for day in range(1, T[1] + 1):\n",
    "        for turn in range(1, T[0] + 1):\n",
    "            for room in range(S):\n",
    "                if (day, turn) in disponibilidade[leader]:\n",
    "                    solver.Add(sch[(day, turn, room)][proj - 1] <= 1)\n",
    "                else:\n",
    "                    solver.Add(sch[(day, turn, room)][proj - 1] == 0)\n"
   ]
  },
  {
   "cell_type": "markdown",
   "metadata": {},
   "source": [
    "Uma vez definida a condição que certifica que o líder do projeto está em todas as reuniões, é necessário verificar que mais de metade dos restantes colaboradores tem disponibilidade nessas reuniões"
   ]
  },
  {
   "cell_type": "code",
   "execution_count": 14,
   "metadata": {},
   "outputs": [],
   "source": [
    "# Função para acrescentar a condição de que cada reunião deve ter pelo menos metade dos colaboradores presentes\n",
    "# validateQuorum\n",
    "\n",
    "for proj, data in projects.items():\n",
    "\n",
    "    num_colabs = len(data[\"colaboradores\"])\n",
    "    quorum = (num_colabs + 1) // 2\n",
    "    \n",
    "    for day in range(1, T[1] + 1):\n",
    "        for turn in range(1, T[0] + 1):\n",
    "            for room in range(S):                                                                              \n",
    "                solver.Add(sum(1 for colab in data[\"colaboradores\"] if (day, turn) in disponibilidade[colab]) >= quorum * sch[(day, turn, room)][proj - 1])  "
   ]
  },
  {
   "cell_type": "markdown",
   "metadata": {},
   "source": [
    "De seguida vamos adicionar a restrição que verifica se os projetos foram alocados o número de vezes suficientes para a sua realização"
   ]
  },
  {
   "cell_type": "code",
   "execution_count": 15,
   "metadata": {},
   "outputs": [],
   "source": [
    "# Função que acrescenta a restrição do número de reuniões\n",
    "for proj in projects:\n",
    "    solver.Add(sum(sch[(day, turn, room)][proj - 1] for day in range(1, T[1] + 1) for turn in range(1, T[0] + 1) for room in range(S)) == projects[proj][\"num_reunioes\"])"
   ]
  },
  {
   "cell_type": "markdown",
   "metadata": {},
   "source": [
    "Para terminar a ultima restrição irá verificar se existem mais que uma reunião alocadas num mesmo horário"
   ]
  },
  {
   "cell_type": "code",
   "execution_count": 16,
   "metadata": {},
   "outputs": [],
   "source": [
    "# Função que verifica se não existe mais que 1 projeto alocado num mesmo horário, nem que um mesmo projeto esteja alocado em 2 salas diferentes\n",
    "for day in range(1, T[1] + 1):\n",
    "    for turn in range(1, T[0] + 1):\n",
    "        solver.Add(sum(sch[(day, turn, room)][proj - 1] for room in range(S) for proj in projects) <= 1)"
   ]
  },
  {
   "cell_type": "markdown",
   "metadata": {},
   "source": [
    "Após todas as condições terem sido impostas basta resolver o solver e imprimir os resultados"
   ]
  },
  {
   "cell_type": "code",
   "execution_count": 17,
   "metadata": {},
   "outputs": [
    {
     "name": "stdout",
     "output_type": "stream",
     "text": [
      "Projeto 1 alocado para o dia 2, no turno 2 na sala 1.\n",
      "Projeto 1 alocado para o dia 2, no turno 3 na sala 0.\n",
      "Projeto 2 alocado para o dia 1, no turno 2 na sala 0.\n",
      "Projeto 2 alocado para o dia 3, no turno 2 na sala 0.\n"
     ]
    }
   ],
   "source": [
    "# Resolver o modelo\n",
    "status = solver.Solve()\n",
    "\n",
    "# Exibir resultados\n",
    "if status == pywraplp.Solver.OPTIMAL:\n",
    "    for proj in projects:\n",
    "        for day in range(1, T[1] + 1):\n",
    "            for turn in range(1, T[0] + 1):\n",
    "                for room in range(S):\n",
    "                    if sch[(day, turn, room)][proj - 1].solution_value() == 1:\n",
    "                        print(f\"Projeto {proj} alocado para o dia {day}, no turno {turn} na sala {room}.\")\n",
    "elif status == pywraplp.Solver.INFEASIBLE:\n",
    "    print(\"Não foi possível encontrar uma solução viável.\")\n",
    "else:\n",
    "    print(f\"Solução encontrada com status: {status}.\")"
   ]
  },
  {
   "cell_type": "markdown",
   "metadata": {},
   "source": [
    "Consideremos alguns exemplos de mais casos e os outputs esperados.\n",
    "\n",
    "EX.1:"
   ]
  },
  {
   "cell_type": "code",
   "execution_count": 18,
   "metadata": {},
   "outputs": [],
   "source": [
    "S = 4  # Número de salas\n",
    "T = (5, 5)  # 5 dias por semana, 5 turnos por dia\n",
    "C = 12  # Número total de colaboradores\n",
    "P = 5  # Número total de projetos\n",
    "\n",
    "projects = {\n",
    "    1: {\"colaboradores\": [1, 2, 3], \"lider\": 1, \"num_reunioes\": 2},\n",
    "    2: {\"colaboradores\": [4, 5, 6], \"lider\": 4, \"num_reunioes\": 2},\n",
    "    3: {\"colaboradores\": [7, 8, 9], \"lider\": 7, \"num_reunioes\": 2},\n",
    "    4: {\"colaboradores\": [10, 11], \"lider\": 10, \"num_reunioes\": 1},\n",
    "    5: {\"colaboradores\": [12, 3], \"lider\": 12, \"num_reunioes\": 1}\n",
    "}\n",
    "\n",
    "# Aumentamos a disponibilidade de cada colaborador para incluir cerca de 12 turnos\n",
    "disponibilidade = {\n",
    "    1: [(1, 1), (1, 2), (2, 1), (2, 2), (3, 1), (3, 2), (4, 1), (4, 2), (5, 1), (5, 2), (5, 3)],  # Líder do projeto 1\n",
    "    2: [(1, 1), (1, 2), (1, 3), (2, 1), (3, 1), (3, 2), (4, 1), (4, 3), (5, 1), (5, 4)],          # Colaborador no projeto 1\n",
    "    3: [(1, 2), (1, 3), (2, 1), (2, 2), (3, 1), (3, 2), (4, 1), (4, 2), (5, 1), (5, 3)],          # Colaborador no projeto 1 e projeto 5\n",
    "    4: [(2, 1), (2, 2), (2, 3), (3, 1), (3, 2), (4, 1), (4, 2), (4, 3), (5, 1), (5, 3)],          # Líder do projeto 2\n",
    "    5: [(2, 1), (2, 2), (2, 3), (3, 2), (3, 3), (4, 1), (4, 2), (5, 2), (5, 3), (5, 4)],          # Colaborador no projeto 2\n",
    "    6: [(3, 2), (3, 3), (4, 1), (4, 2), (5, 1), (5, 2), (5, 3), (5, 4), (5, 5)],                  # Colaborador no projeto 2\n",
    "    7: [(1, 3), (1, 4), (2, 2), (2, 3), (2, 4), (3, 2), (3, 3), (4, 2), (4, 3), (5, 3)],          # Líder do projeto 3\n",
    "    8: [(2, 2), (2, 3), (3, 1), (3, 2), (4, 2), (4, 3), (5, 2), (5, 3), (5, 4)],                  # Colaborador no projeto 3\n",
    "    9: [(1, 3), (1, 4), (2, 2), (2, 3), (3, 2), (3, 3), (5, 2), (5, 3), (5, 4)],                  # Colaborador no projeto 3\n",
    "    10: [(1, 2), (1, 3), (2, 3), (2, 4), (3, 3), (3, 4), (4, 1), (4, 2), (5, 1), (5, 2)],         # Líder do projeto 4\n",
    "    11: [(2, 3), (2, 4), (3, 3), (3, 4), (4, 3), (4, 4), (5, 3), (5, 4), (5, 5)],                 # Colaborador no projeto 4\n",
    "    12: [(2, 1), (2, 2), (2, 3), (3, 2), (3, 3), (4, 1), (5, 1), (5, 2), (5, 3)]                  # Líder do projeto 5\n",
    "}"
   ]
  },
  {
   "cell_type": "markdown",
   "metadata": {},
   "source": [
    "O output esperado para este exemplo é:\n",
    "    <p> Projeto 1 alocado para o dia 2, no turno 2 na sala 1.\n",
    "    <p> Projeto 1 alocado para o dia 4, no turno 1 na sala 1.\n",
    "    <p> Projeto 2 alocado para o dia 2, no turno 1 na sala 1.\n",
    "    <p> Projeto 2 alocado para o dia 3, no turno 2 na sala 0.\n",
    "    <p> Projeto 3 alocado para o dia 4, no turno 2 na sala 0.\n",
    "    <p> Projeto 3 alocado para o dia 5, no turno 3 na sala 2.\n",
    "    <p> Projeto 4 alocado para o dia 2, no turno 4 na sala 0.\n",
    "    <p> Projeto 5 alocado para o dia 5, no turno 2 na sala 0\n",
    "    \n",
    "Ex.2:"
   ]
  },
  {
   "cell_type": "code",
   "execution_count": 19,
   "metadata": {},
   "outputs": [],
   "source": [
    "S = 3  # 3 salas\n",
    "T = (5, 8)  # 5 dias por semana, 8 turnos por dia\n",
    "C = 10  # 10 colaboradores\n",
    "P = 4  # 4 projetos\n",
    "\n",
    "projects = {\n",
    "    1: {\"colaboradores\": [1, 2, 3], \"lider\": 1, \"num_reunioes\": 3},\n",
    "    2: {\"colaboradores\": [4, 5], \"lider\": 4, \"num_reunioes\": 3},\n",
    "    3: {\"colaboradores\": [6, 7], \"lider\": 6, \"num_reunioes\": 3},\n",
    "    4: {\"colaboradores\": [8, 9, 10], \"lider\": 8, \"num_reunioes\": 2}\n",
    "}\n",
    "\n",
    "# Disponibilidade ajustada, mas com conflitos de horários\n",
    "disponibilidade = {\n",
    "    1: [(1, 1), (1, 2), (1, 3), (1, 4), (2, 1), (2, 2), (2, 3), (3, 1), (3, 2), (4, 1), (4, 2), (4, 3)],  # Líder do projeto 1 (muitos turnos)\n",
    "    2: [(2, 5), (2, 6), (3, 5), (3, 6), (4, 4), (4, 5), (4, 6), (5, 1), (5, 2), (5, 3), (5, 4), (5, 5)],  # Colaborador no projeto 1 (sem turnos coincidentes)\n",
    "    3: [(3, 7), (3, 8), (4, 7), (4, 8), (5, 6), (5, 7), (5, 8), (2, 4), (2, 3), (1, 5), (1, 6), (1, 7)],  # Colaborador no projeto 1 (sem turnos)\n",
    "    4: [(1, 1), (1, 2), (1, 3), (2, 1), (2, 2), (2, 3), (2, 4), (3, 1), (4, 1), (4, 2), (4, 3), (5, 1)],  # Líder do projeto 2 (muitos turnos)\n",
    "    5: [(1, 4), (2, 4), (2, 5), (3, 4), (3, 5), (3, 6), (4, 4), (5, 4), (5, 5), (5, 6), (5, 7), (5, 8)],  # Colaborador no projeto 2 (sem turnos coincidentes)\n",
    "    6: [(1, 1), (1, 2), (1, 3), (1, 4), (2, 2), (2, 3), (2, 4), (3, 5), (3, 6), (3, 7), (4, 7), (5, 8)],  # Líder do projeto 3 (muitos turnos)\n",
    "    7: [(2, 5), (2, 6), (3, 5), (3, 6), (4, 5), (4, 6), (5, 1), (5, 2), (5, 3), (5, 4), (5, 5), (5, 6)],  # Colaborador no projeto 3 (sem turnos coincidentes)\n",
    "    8: [(1, 1), (1, 2), (1, 3), (1, 4), (2, 1), (2, 2), (2, 3), (3, 1), (3, 2), (4, 1), (4, 2), (4, 3)],  # Líder do projeto 4 (muitos turnos)\n",
    "    9: [(2, 1), (2, 5), (3, 5), (3, 6), (4, 5), (4, 6), (5, 7), (5, 8), (1, 6), (1, 7), (2, 6), (3, 7)],  # Colaborador no projeto 4 (sem turnos coincidentes)\n",
    "    10: [(1, 1), (1, 2), (1, 3), (1, 4), (1, 5), (1, 6), (1, 7), (2, 1), (2, 3), (4, 3), (4, 4), (5, 1)], # Colaborador no projeto 4 (sem turnos coincidentes)\n",
    "}"
   ]
  },
  {
   "cell_type": "markdown",
   "metadata": {},
   "source": [
    "O output esperado para este exemplo é: \n",
    "    <p>Não foi possível encontrar uma solução viável.\n",
    "\n",
    "Ex.3:"
   ]
  },
  {
   "cell_type": "code",
   "execution_count": 20,
   "metadata": {},
   "outputs": [],
   "source": [
    "S = 3  # 3 salas\n",
    "T = (5, 8)  # 5 dias por semana, 8 turnos por dia\n",
    "C = 10  # 10 colaboradores\n",
    "P = 4  # 4 projetos\n",
    "\n",
    "projects = {\n",
    "    1: {\"colaboradores\": [1, 2, 3], \"lider\": 1, \"num_reunioes\": 5},\n",
    "    2: {\"colaboradores\": [4, 5], \"lider\": 4, \"num_reunioes\": 6},\n",
    "    3: {\"colaboradores\": [6, 7], \"lider\": 6, \"num_reunioes\": 4},\n",
    "    4: {\"colaboradores\": [8, 9, 10], \"lider\": 8, \"num_reunioes\": 5}\n",
    "}\n",
    "\n",
    "# Disponibilidade dos colaboradores\n",
    "disponibilidade = {\n",
    "    1: [ (1, 1), (1, 2), (1, 4), (2, 1), (2, 3), (2, 5), (3, 2), (3, 4), (4, 1), (5, 2), (5, 4), (5, 5), (5, 6), (5, 7), (5, 8)],  # Líder do projeto 1\n",
    "    2: [ (1, 1), (1, 3), (1, 5), (2, 1), (2, 4), (3, 1), (3, 2), (3, 4), (4, 3), (4, 4), (5, 1), (5, 3), (5, 6), (5, 7), (5, 8)],  # Colaborador no projeto 1\n",
    "    3: [ (1, 1), (1, 3), (1, 4), (2, 2), (2, 5), (3, 1), (3, 3), (4, 1), (4, 2), (4, 3), (5, 1), (5, 2), (5, 5), (5, 7), (2, 8)],  # Colaborador no projeto 1\n",
    "    4: [ (1, 2), (1, 4), (1, 5), (2, 1), (2, 2), (2, 3), (3, 2), (3, 5), (4, 2), (4, 3), (4, 4), (5, 1), (5, 3), (5, 5), (2, 6)],  # Líder do projeto 2\n",
    "    5: [ (1, 1), (1, 3), (1, 5), (2, 1), (2, 4), (3, 1), (3, 2), (3, 4), (4, 1), (4, 3), (5, 1), (5, 4), (5, 5), (5, 6), (4, 2)],  # Colaborador no projeto 2\n",
    "    6: [ (1, 2), (1, 3), (1, 6), (2, 1), (2, 3), (3, 1), (3, 4), (4, 1), (4, 2), (4, 5), (5, 2), (5, 3), (5, 6), (5, 7), (5, 8)],  # Líder do projeto 3\n",
    "    7: [ (1, 1), (1, 3), (1, 4), (2, 1), (2, 2), (2, 3), (3, 3), (3, 4), (4, 1), (4, 2), (4, 4), (5, 1), (5, 4), (5, 5), (2, 6)],  # Colaborador no projeto 3\n",
    "    8: [ (1, 1), (1, 2), (1, 5), (2, 1), (2, 3), (3, 1), (3, 2), (3, 4), (4, 1), (4, 2), (5, 1), (5, 3), (5, 5), (5, 6), (5, 8)],  # Líder do projeto 4\n",
    "    9: [ (1, 2), (1, 3), (1, 6), (2, 1), (2, 2), (3, 2), (3, 3), (4, 2), (4, 4), (5, 2), (5, 4), (5, 5), (2, 3), (3, 8), (4, 1)],  # Colaborador no projeto 4\n",
    "    10: [ (1, 1), (1, 3), (1, 5), (2, 1), (2, 2), (2, 4), (3, 1), (3, 2), (4, 1), (4, 3), (4, 4), (5, 2), (5, 4), (5, 6), (5, 8)],  # Colaborador no projeto 4\n",
    "}\n"
   ]
  },
  {
   "cell_type": "markdown",
   "metadata": {},
   "source": [
    "O output esperado para este exemplo é:\n",
    "    <p>Projeto 1 alocado para o dia 1, no turno 4 na sala 2.\n",
    "    <p>Projeto 1 alocado para o dia 2, no turno 5 na sala 2.\n",
    "    <p>Projeto 1 alocado para o dia 3, no turno 2 na sala 1.\n",
    "    <p>Projeto 1 alocado para o dia 5, no turno 2 na sala 0.\n",
    "    <p>Projeto 1 alocado para o dia 5, no turno 5 na sala 1.\n",
    "    <p>Projeto 2 alocado para o dia 2, no turno 2 na sala 2.\n",
    "    <p>Projeto 2 alocado para o dia 3, no turno 5 na sala 2.\n",
    "    <p>Projeto 2 alocado para o dia 4, no turno 3 na sala 1.\n",
    "    <p>Projeto 2 alocado para o dia 4, no turno 4 na sala 2.\n",
    "    <p>Projeto 2 alocado para o dia 5, no turno 1 na sala 1.\n",
    "    <p>Projeto 2 alocado para o dia 5, no turno 3 na sala 1.\n",
    "    <p>Projeto 3 alocado para o dia 3, no turno 1 na sala 2.\n",
    "    <p>Projeto 3 alocado para o dia 3, no turno 4 na sala 1.\n",
    "    <p>Projeto 3 alocado para o dia 4, no turno 1 na sala 2.\n",
    "    <p>Projeto 3 alocado para o dia 4, no turno 5 na sala 2.\n",
    "    <p>Projeto 4 alocado para o dia 1, no turno 1 na sala 2.\n",
    "    <p>Projeto 4 alocado para o dia 1, no turno 2 na sala 2.\n",
    "    <p>Projeto 4 alocado para o dia 1, no turno 5 na sala 0.\n",
    "    <p>Projeto 4 alocado para o dia 2, no turno 1 na sala 2.\n",
    "    <p>Projeto 4 alocado para o dia 2, no turno 3 na sala 2."
   ]
  }
 ],
 "metadata": {
  "kernelspec": {
   "display_name": "logica",
   "language": "python",
   "name": "python3"
  },
  "language_info": {
   "codemirror_mode": {
    "name": "ipython",
    "version": 3
   },
   "file_extension": ".py",
   "mimetype": "text/x-python",
   "name": "python",
   "nbconvert_exporter": "python",
   "pygments_lexer": "ipython3",
   "version": "3.10.14"
  }
 },
 "nbformat": 4,
 "nbformat_minor": 2
}
