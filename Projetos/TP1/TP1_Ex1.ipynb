{
 "cells": [
  {
   "cell_type": "markdown",
   "metadata": {},
   "source": [
    "### Grupo 24\n",
    "\n",
    "Gabriel Antunes a101101\n",
    "<br>\n",
    "Guilherme Pinho a105533\n",
    "\n",
    "<br>\n",
    "Pretende-se construir um horário semanal para o plano de reuniões de <p><p><p><p><p><p><p><p><p><p><p><p><p><p><p><p>Projeto de uma “StartUp” de acordo com as seguintes condições:\n",
    "\n",
    "1. Cada reunião ocupa uma sala (enumeradas 1...S) durante um “slot” (tempo,dia).  Assume-se os dias enumerados 1...D e, em cada dia, os tempos enumerados 1...T.\n",
    "\n",
    "2.  Cada reunião tem associado um projeto (enumerados 1...P) e um conjunto de participantes. Os diferentes colaboradores são enumerados 1...C.\n",
    "    \n",
    "3. Cada projeto tem associado um conjunto de colaboradores, dos quais um  é o líder. Cada projeto realiza um dado número de reuniões semanais. São “inputs” do problema o conjunto de colaboradores de cada projeto, o seu líder e o número de reuniões semanais.\n",
    "    \n",
    "4. O líder do projeto participa em todas as reuniões do seu projeto; os restantes colaboradores podem ou não participar consoante a sua disponibilidade, num mínimo (“quorum”) de  50\\% do total de colaboradores do projeto.  A disponibilidade de cada participante, incluindo o lider,  é um conjunto de “slots” (“inputs” do problema). \n",
    "    \n",
    "<br>\n",
    "São os \"input\" do problema \n",
    "\n",
    "1. Os parâmetros S, T, P, C\n",
    "2. O conjunto de colaboradores de cada projeto, o seu líder e o número mínimo de reuniões semanais\n",
    "3. A disponibilidade de cada participante, incluindo o lider. Essa disponibilidade é um conjunto de        “slots” representada numa matriz booleana de acessibilidade com uma linha por cada participante 1...C e uma coluna por “slot” 1...T"
   ]
  },
  {
   "cell_type": "markdown",
   "metadata": {},
   "source": [
    "Comecemos por definir valores base para que vão servir de inputs para o exercicio:"
   ]
  },
  {
   "cell_type": "code",
   "execution_count": 1,
   "metadata": {},
   "outputs": [],
   "source": [
    "from ortools.linear_solver import pywraplp\n",
    "\n",
    "solver = pywraplp.Solver.CreateSolver('SCIP')\n",
    "\n",
    "S = 2\n",
    "T = (5 , 3) # 5 dias por semana, 3 turnos por dia\n",
    "C = 5\n",
    "P = 2\n",
    "\n",
    "projects = { 1 : { \"colaboradores\" : [1,3,5], \"lider\" : 1, \"num_reunioes\" : 2},\n",
    "             2 : { \"colaboradores\" : [2, 4], \"lider\" : 2, \"num_reunioes\" : 2}}\n",
    "\n",
    "disponibilidade = { 1 : [(2,1), (2,2), (2,3), (3,1), (5,2), (5,3)],\n",
    "                    2 : [(1,2), (2,2), (3,2), (4,2), (5,2)],\n",
    "                    3 : [(1,1), (2,2), (3,3), (4,1), (5,2)],\n",
    "                    4 : [(1,1), (1,2), (1,3), (2,1), (2,2), (2,3)],\n",
    "                    5 : [(1,3), (2,3), (3,3), (4,3), (5,2), (5,3)]  }"
   ]
  },
  {
   "cell_type": "markdown",
   "metadata": {},
   "source": [
    "Vamos criar uma função que vai construir o horário que recebe as Salas, os Turnos e os Dias\n",
    "Este horário vai consistir num dicionário em que as chaves são tuplos no formato \"(Turno, Dia, Sala)\" e a cada uma destas chaves está associado um valor que é uma lista com as variáveis Bool que representam os projetos possíveis e mais tarde irão ter o propósito de validar se é possivel fazer uma reunião naquela sala para aquele projeto"
   ]
  },
  {
   "cell_type": "code",
   "execution_count": 2,
   "metadata": {},
   "outputs": [],
   "source": [
    "# Função que vai construir o horário com os inputs dados, que vai associar cada Dia, Turno, Sala a uma lista com os projetos possíveis\n",
    "# makeSchedule\n",
    "sch = {}\n",
    "\n",
    "for day in range(1, T[1] + 1):\n",
    "    for turn in range(1, T[0] + 1):\n",
    "        for room in range(S):\n",
    "            sch[(day, turn, room)] = [solver.BoolVar(f\"({day}-{turn}-{room}: {proj})\") for proj in range(1, P + 1)]"
   ]
  },
  {
   "cell_type": "markdown",
   "metadata": {},
   "source": [
    "Depois de ter o horário e as variáveis criadas vamos acrescentar a condição que dita que o lider de um projeto têm de comparecer a todas as reuniões desse mesmo projeto"
   ]
  },
  {
   "cell_type": "code",
   "execution_count": 3,
   "metadata": {},
   "outputs": [],
   "source": [
    "# Função para acrescentar a condição de que o líder tem de comparecer a todas as reuniões do projeto\n",
    "# validateLeader\n",
    "\n",
    "for proj, data in projects.items():\n",
    "    leader = data['lider']\n",
    "    for day in range(1, T[1] + 1):\n",
    "        for turn in range(1, T[0] + 1):\n",
    "            for room in range(S):\n",
    "                if (day, turn) in disponibilidade[leader]:\n",
    "                    solver.Add(sch[(day, turn, room)][proj - 1] <= 1)\n",
    "                else:\n",
    "                    solver.Add(sch[(day, turn, room)][proj - 1] == 0)\n"
   ]
  },
  {
   "cell_type": "markdown",
   "metadata": {},
   "source": [
    "Uma vez definida a condição que certifica que o líder do projeto está em todas as reuniões, é necessário verificar que mais de metade dos restantes colaboradores tem disponibilidade nessas reuniões"
   ]
  },
  {
   "cell_type": "code",
   "execution_count": 4,
   "metadata": {},
   "outputs": [],
   "source": [
    "# Função para acrescentar a condição de que cada reunião deve ter pelo menos metade dos colaboradores presentes\n",
    "# validateQuorum\n",
    "\n",
    "for proj, data in projects.items():\n",
    "\n",
    "    num_colabs = len(data[\"colaboradores\"])\n",
    "    quorum = (num_colabs + 1) // 2\n",
    "    \n",
    "    for day in range(1, T[1] + 1):\n",
    "        for turn in range(1, T[0] + 1):\n",
    "            for room in range(S):                                                                              \n",
    "                solver.Add(sum(1 for colab in data[\"colaboradores\"] if (day, turn) in disponibilidade[colab]) >= quorum * sch[(day, turn, room)][proj - 1])  "
   ]
  },
  {
   "cell_type": "markdown",
   "metadata": {},
   "source": [
    "De seguida vamos adicionar a restrição que verifica se os projetos foram alocados o número de vezes suficientes para a sua realização"
   ]
  },
  {
   "cell_type": "code",
   "execution_count": 5,
   "metadata": {},
   "outputs": [],
   "source": [
    "# Função que acrescenta a restrição do número de reuniões\n",
    "for proj in projects:\n",
    "    solver.Add(sum(sch[(day, turn, room)][proj - 1] for day in range(1, T[1] + 1) for turn in range(1, T[0] + 1) for room in range(S)) == projects[proj][\"num_reunioes\"])"
   ]
  },
  {
   "cell_type": "markdown",
   "metadata": {},
   "source": [
    "Para terminar a ultima restrição irá verificar se existem mais que uma reunião alocadas num mesmo horário"
   ]
  },
  {
   "cell_type": "code",
   "execution_count": 6,
   "metadata": {},
   "outputs": [],
   "source": [
    "# Função que verifica se não existe mais que 1 projeto alocado num mesmo horário, nem que um mesmo projeto esteja alocado em 2 salas diferentes\n",
    "for day in range(1, T[1] + 1):\n",
    "    for turn in range(1, T[0] + 1):\n",
    "        solver.Add(sum(sch[(day, turn, room)][proj - 1] for room in range(S) for proj in projects) <= 1)"
   ]
  },
  {
   "cell_type": "markdown",
   "metadata": {},
   "source": [
    "Após todas as condições terem sido impostas basta resolver o solver e imprimir os resultados"
   ]
  },
  {
   "cell_type": "code",
   "execution_count": 7,
   "metadata": {},
   "outputs": [
    {
     "name": "stdout",
     "output_type": "stream",
     "text": [
      "Projeto 1 alocado para o dia 2, no turno 2 na sala 1.\n",
      "Projeto 1 alocado para o dia 2, no turno 3 na sala 0.\n",
      "Projeto 2 alocado para o dia 1, no turno 2 na sala 0.\n",
      "Projeto 2 alocado para o dia 3, no turno 2 na sala 0.\n"
     ]
    }
   ],
   "source": [
    "# Resolver o modelo\n",
    "status = solver.Solve()\n",
    "\n",
    "# Exibir resultados\n",
    "if status == pywraplp.Solver.OPTIMAL:\n",
    "    for proj in projects:\n",
    "        for day in range(1, T[1] + 1):\n",
    "            for turn in range(1, T[0] + 1):\n",
    "                for room in range(S):\n",
    "                    if sch[(day, turn, room)][proj - 1].solution_value() == 1:\n",
    "                        print(f\"Projeto {proj} alocado para o dia {day}, no turno {turn} na sala {room}.\")\n",
    "elif status == pywraplp.Solver.INFEASIBLE:\n",
    "    print(\"Não foi possível encontrar uma solução viável.\")\n",
    "else:\n",
    "    print(f\"Solução encontrada com status: {status}.\")"
   ]
  }
 ],
 "metadata": {
  "kernelspec": {
   "display_name": "logica",
   "language": "python",
   "name": "python3"
  },
  "language_info": {
   "codemirror_mode": {
    "name": "ipython",
    "version": 3
   },
   "file_extension": ".py",
   "mimetype": "text/x-python",
   "name": "python",
   "nbconvert_exporter": "python",
   "pygments_lexer": "ipython3",
   "version": "3.10.14"
  }
 },
 "nbformat": 4,
 "nbformat_minor": 2
}
