{
 "cells": [
  {
   "cell_type": "markdown",
   "metadata": {},
   "source": [
    "# Trabalho Prático 4 Grupo 24\n",
    "\n",
    "Gabriel Antunes a101101<br>\n",
    "Guilherme Pinho a105533\n",
    "\n",
    "## Problema 2"
   ]
  },
  {
   "cell_type": "markdown",
   "metadata": {},
   "source": [
    "#### Compreensão do problema\n",
    "\n",
    "Antes de iniciar verifiquemos o comportamento do algoritmo"
   ]
  },
  {
   "cell_type": "code",
   "execution_count": 1,
   "metadata": {},
   "outputs": [],
   "source": [
    "from z3 import *"
   ]
  },
  {
   "cell_type": "code",
   "execution_count": 2,
   "metadata": {},
   "outputs": [
    {
     "name": "stdout",
     "output_type": "stream",
     "text": [
      "Input:  a: 12, b: 18, r: 12, r': 18, s: 1, s': 0, t: 0, t': 1\n",
      "While:  a: 12, b: 18, r: 18, r': 12, s: 0, s': 1, t: 1, t': 0, q: 0\n",
      "While:  a: 12, b: 18, r: 12, r': 6, s: 1, s': -1, t: 0, t': 1, q: 1\n",
      "While:  a: 12, b: 18, r: 6, r': 0, s: -1, s': 3, t: 1, t': -2, q: 2\n",
      "Final:  a: 12, b: 18, r: 6, r': 0, s: -1, s': 3, t: 1, t': -2\n",
      "Result: r: 6\n",
      "\n",
      "Input:  a: 13, b: 27, r: 13, r': 27, s: 1, s': 0, t: 0, t': 1\n",
      "While:  a: 13, b: 27, r: 27, r': 13, s: 0, s': 1, t: 1, t': 0, q: 0\n",
      "While:  a: 13, b: 27, r: 13, r': 1, s: 1, s': -2, t: 0, t': 1, q: 2\n",
      "While:  a: 13, b: 27, r: 1, r': 0, s: -2, s': 27, t: 1, t': -13, q: 13\n",
      "Final:  a: 13, b: 27, r: 1, r': 0, s: -2, s': 27, t: 1, t': -13\n",
      "Result: r: 1\n",
      "\n",
      "Input:  a: 200, b: 120, r: 200, r': 120, s: 1, s': 0, t: 0, t': 1\n",
      "While:  a: 200, b: 120, r: 120, r': 80, s: 0, s': 1, t: 1, t': -1, q: 1\n",
      "While:  a: 200, b: 120, r: 80, r': 40, s: 1, s': -1, t: -1, t': 2, q: 1\n",
      "While:  a: 200, b: 120, r: 40, r': 0, s: -1, s': 3, t: 2, t': -5, q: 2\n",
      "Final:  a: 200, b: 120, r: 40, r': 0, s: -1, s': 3, t: 2, t': -5\n",
      "Result: r: 40\n",
      "\n"
     ]
    },
    {
     "data": {
      "text/plain": [
       "40"
      ]
     },
     "execution_count": 2,
     "metadata": {},
     "output_type": "execute_result"
    }
   ],
   "source": [
    "def euclides(a, b):\n",
    "    r, rr, s, ss, t, tt = a, b, 1, 0, 0, 1\n",
    "    print(f\"Input:  a: {a}, b: {b}, r: {r}, r': {rr}, s: {s}, s': {ss}, t: {t}, t': {tt}\")\n",
    "\n",
    "    while rr != 0:\n",
    "        q = r // rr\n",
    "        r, rr, s, ss, t, tt = rr, r - q * rr, ss, s - q * ss, tt, t - q * tt \n",
    "        print(f\"While:  a: {a}, b: {b}, r: {r}, r': {rr}, s: {s}, s': {ss}, t: {t}, t': {tt}, q: {q}\")\n",
    "\n",
    "    print(f\"Final:  a: {a}, b: {b}, r: {r}, r': {rr}, s: {s}, s': {ss}, t: {t}, t': {tt}\")\n",
    "    print(f\"Result: r: {r}\\n\")\n",
    "    return r\n",
    "\n",
    "euclides(12,18)\n",
    "euclides(13,27)\n",
    "euclides(200,120)"
   ]
  },
  {
   "cell_type": "markdown",
   "metadata": {},
   "source": [
    "## Alínea a):\n",
    "\n",
    "Construa a asserção lógica que representa a pós-condição do algoritmo. Note que a definição da função $\\gcd$ é   $$\\gcd(a,b)\\;\\equiv\\; \\min \\{\\,r > 0\\,|\\,\\exists\\,s,t\\,\\centerdot\\, r = a*s+b*t\\,\\}$$ "
   ]
  },
  {
   "cell_type": "markdown",
   "metadata": {},
   "source": [
    "Pós-Condição:    $r=gcd(a,b)∧r=a⋅s+b⋅t∧r>0$"
   ]
  },
  {
   "cell_type": "markdown",
   "metadata": {},
   "source": [
    "# Alínea b):\n",
    "\n",
    "Usando a metodologia do comando **havoc** para o ciclo, escreva o programa na linguagem dos comandos anotados (LPA). Codifique a pós-condição do algoritmo com um comando **assert** ."
   ]
  },
  {
   "cell_type": "markdown",
   "metadata": {},
   "source": [
    "\n",
    "Na metodologia *havoc*, o ciclo (${\\sf while} \\; b \\;{\\sf do }\\{\\theta\\} \\;C$), com anotação de invariante $\\theta$ é transformado num fluxo não iterativo da seguinte forma\n",
    "\n",
    "$$\n",
    "{{\\sf assert}\\; \\theta\\; ; \\sf havoc }\\;\\vec{x} \\; ; (\\,({\\sf assume }\\; b \\wedge \\theta \\; ; \\; C \\; ; {\\sf assert}\\;\\theta \\; ; {\\sf assume}\\; \\mathit{False}) \\: || \\:\n",
    "{\\sf assume}\\; \\neg b \\wedge \\theta \\,)\n",
    "$$"
   ]
  },
  {
   "cell_type": "markdown",
   "metadata": {},
   "source": [
    "# Algoritmo de Euclides Estendido\n",
    "\n",
    "```plaintext\n",
    "INPUT: a, b\n",
    "assume a > 0 and b > 0                                                      # Pré-Condição\n",
    "\n",
    "r, r', s, s', t, t' = a, b, 1, 0, 0, 1\n",
    "\n",
    "while r' != 0\n",
    "    { gcd(a, b) = gcd(r, r') ∧ r = a * s + b * t ∧ r' = a * s' + b * t' }   # Invariante\n",
    "\n",
    "    q = r div r'\n",
    "\n",
    "    r, r', s, s', t, t' = r', r − q × r', s', s − q × s', t', t − q × t'\n",
    "\n",
    "assert r = gcd(a, b) and r = a * s + b * t                                    # Pós-Condição\n",
    "OUTPUT: r\n",
    "```\n"
   ]
  },
  {
   "cell_type": "markdown",
   "metadata": {},
   "source": [
    "# Programa na Linguagem dos Comandos Anotados (LPA)\n",
    "preCond = a > 0 and b > 0 \n",
    "\n",
    "inv = gcd(a, b) = gcd(r, r') and r = a * s + b * t and r' = a * s' + b * t'\n",
    "\n",
    "posCond = r = gcd(a, b) and r = a * s + b * t\n",
    "\n",
    "\n",
    "\n",
    "C = q = r div r'; r, r', s, s', t, t' = r', r − q × r', s', s − q × s', t', t − q × t'\n",
    "\n",
    "\n",
    "xVect = r, r', s, s', t, t'\n",
    "\n",
    "[assume preCond; r, r', s, s', t, t' = a, b, 1, 0, 0, 1; assert inv; havoc xVect; ((assume r != 0 and inv; C; assume False) || assume r == 0 and inv); assert posCond]\n"
   ]
  },
  {
   "cell_type": "markdown",
   "metadata": {},
   "source": [
    "# Alínea c): \n",
    "\n",
    "Construa codificações do programa LPA através de transformadores de predicados “strongest post-condition” e  prove a correção  do programa LPA."
   ]
  },
  {
   "cell_type": "markdown",
   "metadata": {},
   "source": [
    "Antes de desenvolver o programa em LPa através de transformafores de predicados SPC, recordemos os mesmos:\n",
    "\n",
    "Neste caso, a denotação `[C]` associa a cada fluxo `C` um predicado que caracteriza a sua correcção em termos lógicos (a sua VC) segundo a técnica SPC, sendo calculada pelas seguintes regras.\n",
    "\n",
    "$\n",
    "\\begin{array}{l}\n",
    "[{\\sf skip}] = True \\\\\n",
    "[{\\sf assume}\\:\\phi] = \\phi \\\\\n",
    "[{\\sf assert}\\:\\phi] = \\phi \\\\\n",
    "[x = e ] = (x = e)\\\\\n",
    "[(C_1 || C_2)] = [C_1] \\vee [C_2] \\\\\n",
    "\\\\\n",
    "[C \\, ; {\\sf skip}\\;] = [C] \\\\\n",
    "[C \\, ;{\\sf assume}\\:\\phi] = [C] \\wedge \\phi \\\\\n",
    "[C \\, ;{\\sf assert}\\:\\phi] = [C] \\to \\phi \\\\\n",
    "[ C \\, ; x = e ] = [C] \\wedge (x = e)\\\\\n",
    "[C\\,; (C_1 || C_2)] = [(C ; C_1) || (C; C_2)]\n",
    "\\end{array}\n",
    "$"
   ]
  },
  {
   "cell_type": "markdown",
   "metadata": {},
   "source": [
    "[assume preCond; r, r', s, s', t, t' = a, b, 1, 0, 0, 1; assert inv; havoc xVect; ((assume r != 0 and inv; C; assume False) || assume r == 0 and inv); assert posCond]\n",
    "\n",
    "=\n",
    "\n",
    "[assume preCond; r, r', s, s', t, t' = a, b, 1, 0, 0, 1; assert inv; havoc xVect; ((assume r != 0 and inv; C; assume False) || assume r == 0 and inv)] -> posCond\n",
    "\n",
    "=\n",
    "\n",
    "[(assume preCond; r, r', s, s', t, t' = a, b, 1, 0, 0, 1; assert inv; havoc xVect; (assume r != 0 and inv; C; assume False)) ||\n",
    " (assume preCond; r, r', s, s', t, t' = a, b, 1, 0, 0, 1; assert inv; havoc xVect; assume r == 0 and inv)] -> posCond\n",
    "\n",
    "=\n",
    "\n",
    "[(assume preCond; r, r', s, s', t, t' = a, b, 1, 0, 0, 1; assert inv; havoc xVect; (assume r != 0 and inv; C; assume False))] or\n",
    "[(assume preCond; r, r', s, s', t, t' = a, b, 1, 0, 0, 1; assert inv; havoc xVect; assume r == 0 and inv)] -> posCond\n",
    "\n",
    "=\n",
    "\n",
    "[assume preCond; r, r', s, s', t, t' = a, b, 1, 0, 0, 1; assert inv; havoc xVect; (assume r != 0 and inv; C; assume False)] or\n",
    "[assume preCond; r, r', s, s', t, t' = a, b, 1, 0, 0, 1; assert inv; havoc xVect; assume r == 0 and inv] -> posCond\n",
    "\n",
    "=\n",
    "\n",
    "([assume preCond; r, r', s, s', t, t' = a, b, 1, 0, 0, 1; assert inv; havoc xVect] and (assume r != 0 and inv; C; assume False) or\n",
    "[assume preCond; r, r', s, s', t, t' = a, b, 1, 0, 0, 1; assert inv; havoc xVect] and r == 0 and inv) -> posCond\n",
    "\n",
    "=\n",
    "\n",
    "([assume preCond; r, r', s, s', t, t' = a, b, 1, 0, 0, 1; assert inv] and ForAll xVect. (assume r != 0 and inv; C; assume False) or\n",
    "[assume preCond; r, r', s, s', t, t' = a, b, 1, 0, 0, 1; assert inv] and ForAll xVect. r == 0 and inv) -> posCond\n",
    "\n",
    "=\n",
    "\n",
    "([assume preCond; r, r', s, s', t, t' = a, b, 1, 0, 0, 1] -> inv and (ForAll xVect. (assume r != 0 and inv; C; assume False)) or\n",
    "[assume preCond; r, r', s, s', t, t' = a, b, 1, 0, 0, 1] -> inv and (ForAll xVect. r == 0 and inv)) -> posCond\n",
    "\n",
    "=\n",
    "\n",
    "([assume preCond] and (r, r', s, s', t, t' = a, b, 1, 0, 0, 1) -> inv and (ForAll xVect. (assume r != 0 and inv; C; assume False)) or\n",
    "[assume preCond] and (r, r', s, s', t, t' = a, b, 1, 0, 0, 1) -> inv and (ForAll xVect. r == 0 and inv)) -> posCond\n",
    "\n",
    "=\n",
    "\n",
    "((preCond and r, r', s, s', t, t' = a, b, 1, 0, 0, 1) -> inv and (ForAll xVect. (assume r != 0 and inv; C; assume False)) or\n",
    "(preCond and r, r', s, s', t, t' = a, b, 1, 0, 0, 1) -> inv and (ForAll xVect. r == 0 and inv)) -> posCond\n",
    "\n",
    "=\n",
    "\n",
    "((preCond and r, r', s, s', t, t' = a, b, 1, 0, 0, 1) -> inv and (ForAll xVect. ((r != 0 and inv) and [C] and False)) or\n",
    "(preCond and r, r', s, s', t, t' = a, b, 1, 0, 0, 1) -> inv and (ForAll xVect. r == 0 and inv)) -> posCond\n",
    "\n",
    "= Simplificando\n",
    "\n",
    "((preCond and r, r', s, s', t, t' = a, b, 1, 0, 0, 1) -> inv) and ((ForAll xVect. ((r != 0 and inv) and [C] and False) or (r == 0 and inv))) -> posCond\n",
    "\n",
    "= Note-se que ((r != 0 and inv) and [C] and False) = False\n",
    "\n",
    "= Note-se também que (False or C) = C\n",
    "\n",
    "((preCond and r, r', s, s', t, t' = a, b, 1, 0, 0, 1) -> (inv and (ForAll xVect. (r == 0 and inv)))) -> posCond\n",
    "\n",
    "= Por fim, substituindo:\n",
    "\n",
    "(((a > 0 and b > 0)  and r, r', s, s', t, t' = a, b, 1, 0, 0, 1) -> (gcd(a, b) = gcd(r, r') and r = a * s + b * t and r' = a * s' + b * t')) and \n",
    "\n",
    "(ForAll r, r', s, s', t, t'. (r == 0 and (gcd(a, b) = gcd(r, r') and r = a * s + b * t and r' = a * s' + b * t')))  -> r = gcd(a, b) and r = a * s + b * t\n"
   ]
  },
  {
   "cell_type": "markdown",
   "metadata": {},
   "source": [
    "### Uma vez que já temos a expressão:\n",
    "\n",
    "(((a > 0 and b > 0)  and r, r', s, s', t, t' = a, b, 1, 0, 0, 1) -> (gcd(a, b) = gcd(r, r') and r = a * s + b * t and r' = a * s' + b * t')) and \n",
    "\n",
    "(ForAll r, r', s, s', t, t'. (r == 0 and (gcd(a, b) = gcd(r, r') and r = a * s + b * t and r' = a * s' + b * t')))  -> r = gcd(a, b) and r = a * s + b * t\n",
    "\n",
    "\n",
    "### Passemos à prova:"
   ]
  },
  {
   "cell_type": "code",
   "execution_count": 3,
   "metadata": {},
   "outputs": [],
   "source": [
    "def prove(f):\n",
    "\n",
    "    with Solver() as s:\n",
    "        s.add(Not(f))\n",
    "        if s.check() == sat:\n",
    "            print(\"Failed to prove.\")\n",
    "        else:\n",
    "            print(\"Proved.\")"
   ]
  },
  {
   "cell_type": "code",
   "execution_count": 4,
   "metadata": {},
   "outputs": [
    {
     "name": "stdout",
     "output_type": "stream",
     "text": [
      "Proved.\n"
     ]
    }
   ],
   "source": [
    "a = Int('a')\n",
    "b = Int('b')\n",
    "r = Int('r')\n",
    "rr = Int('rr')\n",
    "s = Int('s')\n",
    "ss = Int('ss')\n",
    "t = Int('t')\n",
    "tt = Int('tt')\n",
    "q = Int('q')\n",
    "\n",
    "# Definir gcd como uma função\n",
    "gcd = Function('gcd', IntSort(), IntSort(), IntSort())\n",
    "gcdAx1 = ForAll([a], Implies(a >= 0, gcd(a, 0) == a))\n",
    "gcdAx2 = ForAll([b], Implies(b >= 0, gcd(0, b) == b))\n",
    "gcdAx3 = ForAll([a, b], Implies(And(a > 0, b > 0), gcd(a, b) == gcd(b, a % b)))\n",
    "\n",
    "gcdF = And(gcdAx1, gcdAx2, gcdAx3)\n",
    "\n",
    "preCond = And(a > 0, b > 0)\n",
    "\n",
    "axioms = And(\n",
    "    r == a,\n",
    "    rr == b,\n",
    "    s == 1,\n",
    "    ss == 0,\n",
    "    t == 0,\n",
    "    tt == 1\n",
    ")\n",
    "\n",
    "pre = And(preCond, axioms)\n",
    "\n",
    "# inv = gcd(a, b) = gcd(r, r') and r = a * s + b * t and r' = a * s' + b * t'\n",
    "inv = And(\n",
    "    gcd(a, b) == gcd(r, rr),  \n",
    "    r == a * s + b * t,    \n",
    "    rr == a * ss + b * tt     \n",
    ")\n",
    "\n",
    "preFinal = (Implies(pre, inv))\n",
    "\n",
    "exitCond = ForAll([r,rr,s,ss,t,tt], And((r == 0), inv))\n",
    "\n",
    "# posCond = r = gcd(a, b) and r = a * s + b * t\n",
    "posCond = And(\n",
    "    r == gcd(a, b),        \n",
    "    r == a * s + b * t     \n",
    ")\n",
    "\n",
    "posFinal = Implies(exitCond, posCond)\n",
    "\n",
    "spc = And(preFinal, posFinal)\n",
    "\n",
    "prove(Implies(gcdF, spc))\n"
   ]
  }
 ],
 "metadata": {
  "kernelspec": {
   "display_name": "logica",
   "language": "python",
   "name": "python3"
  },
  "language_info": {
   "codemirror_mode": {
    "name": "ipython",
    "version": 3
   },
   "file_extension": ".py",
   "mimetype": "text/x-python",
   "name": "python",
   "nbconvert_exporter": "python",
   "pygments_lexer": "ipython3",
   "version": "3.10.14"
  }
 },
 "nbformat": 4,
 "nbformat_minor": 2
}
