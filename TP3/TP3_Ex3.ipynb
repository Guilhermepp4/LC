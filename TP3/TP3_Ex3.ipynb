{
 "cells": [
  {
   "cell_type": "markdown",
   "metadata": {},
   "source": [
    "# TP3 Ex3 Grupo 24\n",
    "Gabriel Antunes a101101<br>\n",
    "Guilherme Pinho a105533\n",
    "\n",
    "Considere de novo o 1º problema do trabalho TP2  relativo à descrição da cifra $$\\,\\mathsf{A5/1}$$ e o FOTS usando BitVec’s que aí foi definido para a componente do gerador de chaves. Ignore a componente de geração final da chave e restrinja o modelo aos três LFSR’s. \n",
    "Sejam $$\\,\\mathsf{X}_0, \\mathsf{X}_1, \\mathsf{X}_2\\,$$ as variáveis que determinam os estados dos três LFSR’s que ocorrem neste modelo. Como condição inicial  e condição de erro use os predicados\n",
    "\n",
    "I≡(X​0>0)∧(X​1>0)∧(X​2>0) e $$\\quad \\mathsf{E}\\;\\equiv\\;\\neg\\,\\mathsf{I}$$"
   ]
  },
  {
   "cell_type": "markdown",
   "metadata": {},
   "source": [
    "Codifique em “z3”  o SFOTS assim definido."
   ]
  },
  {
   "cell_type": "code",
   "execution_count": null,
   "metadata": {},
   "outputs": [
    {
     "name": "stdout",
     "output_type": "stream",
     "text": [
      "Estado 0:\n",
      "  X0 = 174762_19\n",
      "  X1 = 3565158_22\n",
      "  X2 = 1887411_23\n",
      "Estado 1:\n",
      "  X0 = 174762_19\n",
      "  X1 = 2796202_22\n",
      "  X2 = 5592405_23\n",
      "Estado 2:\n",
      "  X0 = 57342_19\n",
      "  X1 = 1048574_22\n",
      "  X2 = 5592405_23\n"
     ]
    }
   ],
   "source": [
    "from pysmt.shortcuts import * \n",
    "from pysmt.typing import BVType\n",
    "\n",
    "import itertools \n",
    "\n",
    "bit_size0 = 19\n",
    "bit_size1 = 22\n",
    "bit_size2 = 23\n",
    "\n",
    "def genState(vars,s,i):\n",
    "    state = {}\n",
    "    for v in vars:\n",
    "        if v == 'X0':\n",
    "            state[v] = Symbol(v+'!'+s+str(i), types.BVType(19))\n",
    "        elif v == 'X1':\n",
    "            state[v] = Symbol(v+'!'+s+str(i), types.BVType(22))\n",
    "        else:\n",
    "            state[v] = Symbol(v+'!'+s+str(i), types.BVType(23))\n",
    "    return state\n",
    "\n",
    "def init(s):\n",
    "    return And(\n",
    "        BVUGT(s['X0'], BV(0, 19)),   \n",
    "        BVUGT(s['X1'], BV(0, 22)),\n",
    "        BVUGT(s['X2'], BV(0, 23)) \n",
    "        )\n",
    "\n",
    "def error(s):\n",
    "    return Or(\n",
    "        BVULT(s['X0'], BV(0, 19)),  \n",
    "        BVULT(s['X1'], BV(0, 22)),  \n",
    "        BVULT(s['X2'], BV(0, 23))   \n",
    "    )\n",
    "\n",
    "# Bits de Controlo\n",
    "def controlBits(a, b, c):\n",
    "    return Or(Equals(a,b), Equals(a,c))\n",
    "\n",
    "# Transição global combinando os três LFSRs\n",
    "def trans(atual, prox):\n",
    "\n",
    "    s0 = BV(466944,19)\n",
    "    s1 = BV(3145728,22)\n",
    "    s2 = BV(7340160,23)\n",
    "    \n",
    "    b0 = BVExtract(atual['X0'], 8, 8)\n",
    "    b1 = BVExtract(atual['X1'], 10, 10)\n",
    "    b2 = BVExtract(atual['X2'], 10, 10)\n",
    "\n",
    "    t0 = And(controlBits(b0, b1, b2), controlBits(b1, b0, b2), controlBits(b2, b0, b1),\n",
    "             Equals(prox['X0'], BVXor(BVLShl(atual['X0'], BV(1, 19)), BVXor(s0, atual['X0']))),\n",
    "             Equals(prox['X1'], BVXor(BVLShl(atual['X1'], BV(1, 22)), BVXor(s1, atual['X1']))),\n",
    "             Equals(prox['X2'], BVXor(BVLShl(atual['X2'], BV(1, 23)), BVXor(s2, atual['X2'])))\n",
    "    )\n",
    "\n",
    "    t1 = And(Not(controlBits( b0, b1, b2)), controlBits( b1, b0, b2), controlBits( b2, b0, b1),\n",
    "            Equals(prox['X1'], BVXor(BVLShl(atual['X1'], BV(1, 22)), BVXor(s1, atual['X1']))),\n",
    "            Equals(prox['X2'], BVXor(BVLShl(atual['X2'], BV(1, 23)), BVXor(s2, atual['X2']))),\n",
    "            Equals(prox['X0'], atual['X0'])\n",
    "    )\n",
    "\n",
    "    t2 = And(controlBits( b0, b1, b2), Not(controlBits( b1, b0, b2)), controlBits( b2, b0, b1),\n",
    "            Equals(prox['X0'], BVXor(BVLShl(atual['X0'], BV(1, 19)), BVXor(s0, atual['X0']))),\n",
    "            Equals(prox['X2'], BVXor(BVLShl(atual['X2'], BV(1, 23)), BVXor(s2, atual['X2']))),\n",
    "            Equals(prox['X1'], atual['X1'])\n",
    "    )\n",
    "\n",
    "    t3 = And(controlBits( b0, b1, b2), controlBits( b1, b0, b2), Not(controlBits( b2, b0, b1)),\n",
    "             Equals(prox['X0'], BVXor(BVLShl(atual['X0'], BV(1, 19)), BVXor(s0, atual['X0']))),\n",
    "             Equals(prox['X1'], BVXor(BVLShl(atual['X1'], BV(1, 22)), BVXor(s1, atual['X1']))),\n",
    "             Equals(prox['X2'], atual['X2'])\n",
    "    )\n",
    "\n",
    "    return Or(t0, t1, t2, t3)\n",
    "\n",
    "def genTrace(vars, init, trans, error, n):\n",
    "    \n",
    "    with Solver(name=\"z3\") as solver:\n",
    "        X = [genState(vars, 'X', i) for i in range(n+1)]     # cria n+1 estados (com etiqueta X)\n",
    "\n",
    "        I = init(X[0]) \n",
    "        Tks = [trans(X[i], X[i+1]) for i in range(n)] \n",
    "        \n",
    "        if solver.solve([I, And(Tks)]): \n",
    "            for i in range(n+1):\n",
    "                print(f\"Estado {i}:\")\n",
    "                for v in X[i]:\n",
    "                    print(f\"  {v} = {solver.get_value(X[i][v])}\")\n",
    "        else:\n",
    "            print(\"Nenhum traço válido encontrado.\")\n",
    "            \n",
    "vars = ['X0','X1','X2']\n",
    "\n",
    "genTrace(vars, init, trans, error, 2) "
   ]
  },
  {
   "cell_type": "markdown",
   "metadata": {},
   "source": [
    "Use o algoritmo PDR “property directed reachability” (codifique-o ou use uma versão pré-existente) e, com ele, tente provar a segurança deste modelo."
   ]
  },
  {
   "cell_type": "code",
   "execution_count": 16,
   "metadata": {},
   "outputs": [
    {
     "name": "stdout",
     "output_type": "stream",
     "text": [
      "Propriedade garantida no Estado 0.\n"
     ]
    },
    {
     "data": {
      "text/plain": [
       "True"
      ]
     },
     "execution_count": 16,
     "metadata": {},
     "output_type": "execute_result"
    }
   ],
   "source": [
    "def pdr(vars, init, trans, error, iterations):\n",
    "    with Solver(name=\"z3\") as solver:\n",
    "\n",
    "        # Lista de estados simbólicos para os frames\n",
    "        X = [init(genState(vars, 'F', 0))]  # Estado inicial com restrições de inicialização\n",
    "\n",
    "        for k in range(iterations):\n",
    "            # 1. Expandir o frame atual excluindo estados de erro\n",
    "            curr = genState(vars, 'F', k)\n",
    "            newS = And(X[-1], Not(error(curr)))\n",
    "\n",
    "            # Verificar se o novo frame exclui estados de erro\n",
    "            if not solver.solve([newS, error(curr)]):\n",
    "                print(f\"Propriedade garantida no Estado {k}.\")\n",
    "                return True\n",
    "\n",
    "            # Adicionar o novo frame à lista de frames\n",
    "            X.append(newS)\n",
    "\n",
    "            # 2. Indução: verificar transições entre o estado atual e próximo estado\n",
    "            for i in range(k):\n",
    "                curr = genState(vars, 'F', i)\n",
    "                nxt = genState(vars, 'F', i+1)\n",
    "\n",
    "                # Verificar se os estados em i são invariantes\n",
    "                if solver.solve([X[i], trans(curr, nxt), Not(X[i + 1])]):\n",
    "                    print(f\"Invariante falhou entre frames {i} e {i+1}.\")\n",
    "                    return False\n",
    "\n",
    "        print(\"Propriedade não foi provada. Limite de iterações atingido.\")\n",
    "        return False\n",
    "\n",
    "\n",
    "# Testar o algoritmo\n",
    "vars = ['X0', 'X1', 'X2']\n",
    "pdr(vars, init, trans, error, 10)\n"
   ]
  }
 ],
 "metadata": {
  "kernelspec": {
   "display_name": "logica",
   "language": "python",
   "name": "python3"
  },
  "language_info": {
   "codemirror_mode": {
    "name": "ipython",
    "version": 3
   },
   "file_extension": ".py",
   "mimetype": "text/x-python",
   "name": "python",
   "nbconvert_exporter": "python",
   "pygments_lexer": "ipython3",
   "version": "3.10.14"
  }
 },
 "nbformat": 4,
 "nbformat_minor": 2
}
